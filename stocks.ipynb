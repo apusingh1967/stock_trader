{
 "cells": [
  {
   "cell_type": "code",
   "execution_count": null,
   "id": "a0880155-6c32-477a-a5e8-e5654463223b",
   "metadata": {},
   "outputs": [
    {
     "name": "stderr",
     "output_type": "stream",
     "text": [
      "3442.73s - pydevd: Sending message related to process being replaced timed-out after 5 seconds\n"
     ]
    },
    {
     "name": "stdout",
     "output_type": "stream",
     "text": [
      "Requirement already satisfied: Quandl in ./venv/lib/python3.12/site-packages (3.7.0)\n",
      "Requirement already satisfied: pandas>=0.14 in ./venv/lib/python3.12/site-packages (from Quandl) (2.2.3)\n",
      "Requirement already satisfied: numpy>=1.8 in ./venv/lib/python3.12/site-packages (from Quandl) (2.2.2)\n",
      "Requirement already satisfied: requests>=2.7.0 in ./venv/lib/python3.12/site-packages (from Quandl) (2.32.3)\n",
      "Requirement already satisfied: inflection>=0.3.1 in ./venv/lib/python3.12/site-packages (from Quandl) (0.5.1)\n",
      "Requirement already satisfied: python-dateutil in ./venv/lib/python3.12/site-packages (from Quandl) (2.9.0.post0)\n",
      "Requirement already satisfied: six in ./venv/lib/python3.12/site-packages (from Quandl) (1.17.0)\n",
      "Requirement already satisfied: more-itertools in ./venv/lib/python3.12/site-packages (from Quandl) (10.6.0)\n",
      "Requirement already satisfied: pytz>=2020.1 in ./venv/lib/python3.12/site-packages (from pandas>=0.14->Quandl) (2025.1)\n",
      "Requirement already satisfied: tzdata>=2022.7 in ./venv/lib/python3.12/site-packages (from pandas>=0.14->Quandl) (2025.1)\n",
      "Requirement already satisfied: charset-normalizer<4,>=2 in ./venv/lib/python3.12/site-packages (from requests>=2.7.0->Quandl) (3.4.1)\n",
      "Requirement already satisfied: idna<4,>=2.5 in ./venv/lib/python3.12/site-packages (from requests>=2.7.0->Quandl) (3.10)\n",
      "Requirement already satisfied: urllib3<3,>=1.21.1 in ./venv/lib/python3.12/site-packages (from requests>=2.7.0->Quandl) (2.3.0)\n",
      "Requirement already satisfied: certifi>=2017.4.17 in ./venv/lib/python3.12/site-packages (from requests>=2.7.0->Quandl) (2025.1.31)\n",
      "\n",
      "\u001b[1m[\u001b[0m\u001b[34;49mnotice\u001b[0m\u001b[1;39;49m]\u001b[0m\u001b[39;49m A new release of pip is available: \u001b[0m\u001b[31;49m24.0\u001b[0m\u001b[39;49m -> \u001b[0m\u001b[32;49m25.0\u001b[0m\n",
      "\u001b[1m[\u001b[0m\u001b[34;49mnotice\u001b[0m\u001b[1;39;49m]\u001b[0m\u001b[39;49m To update, run: \u001b[0m\u001b[32;49mpip install --upgrade pip\u001b[0m\n"
     ]
    },
    {
     "name": "stderr",
     "output_type": "stream",
     "text": [
      "3449.62s - pydevd: Sending message related to process being replaced timed-out after 5 seconds\n"
     ]
    },
    {
     "name": "stdout",
     "output_type": "stream",
     "text": [
      "Collecting yfinance\n",
      "  Downloading yfinance-0.2.52-py2.py3-none-any.whl.metadata (5.8 kB)\n",
      "Requirement already satisfied: pandas>=1.3.0 in ./venv/lib/python3.12/site-packages (from yfinance) (2.2.3)\n",
      "Requirement already satisfied: numpy>=1.16.5 in ./venv/lib/python3.12/site-packages (from yfinance) (2.2.2)\n",
      "Requirement already satisfied: requests>=2.31 in ./venv/lib/python3.12/site-packages (from yfinance) (2.32.3)\n",
      "Collecting multitasking>=0.0.7 (from yfinance)\n",
      "  Downloading multitasking-0.0.11-py3-none-any.whl.metadata (5.5 kB)\n",
      "Collecting lxml>=4.9.1 (from yfinance)\n",
      "  Downloading lxml-5.3.0-cp312-cp312-macosx_10_9_universal2.whl.metadata (3.8 kB)\n",
      "Requirement already satisfied: platformdirs>=2.0.0 in ./venv/lib/python3.12/site-packages (from yfinance) (4.3.6)\n",
      "Requirement already satisfied: pytz>=2022.5 in ./venv/lib/python3.12/site-packages (from yfinance) (2025.1)\n",
      "Collecting frozendict>=2.3.4 (from yfinance)\n",
      "  Downloading frozendict-2.4.6-py312-none-any.whl.metadata (23 kB)\n",
      "Collecting peewee>=3.16.2 (from yfinance)\n",
      "  Downloading peewee-3.17.8.tar.gz (948 kB)\n",
      "\u001b[2K     \u001b[38;2;114;156;31m━━━━━━━━━━━━━━━━━━━━━━━━━━━━━━━━━━━━━━\u001b[0m \u001b[32m948.2/948.2 kB\u001b[0m \u001b[31m11.8 MB/s\u001b[0m eta \u001b[36m0:00:00\u001b[0mm eta \u001b[36m0:00:01\u001b[0m[36m0:00:01\u001b[0m\n",
      "\u001b[?25h  Installing build dependencies ... \u001b[?25ldone\n",
      "\u001b[?25h  Getting requirements to build wheel ... \u001b[?25ldone\n",
      "\u001b[?25h  Preparing metadata (pyproject.toml) ... \u001b[?25ldone\n",
      "\u001b[?25hRequirement already satisfied: beautifulsoup4>=4.11.1 in ./venv/lib/python3.12/site-packages (from yfinance) (4.12.3)\n",
      "Collecting html5lib>=1.1 (from yfinance)\n",
      "  Downloading html5lib-1.1-py2.py3-none-any.whl.metadata (16 kB)\n",
      "Requirement already satisfied: soupsieve>1.2 in ./venv/lib/python3.12/site-packages (from beautifulsoup4>=4.11.1->yfinance) (2.6)\n",
      "Requirement already satisfied: six>=1.9 in ./venv/lib/python3.12/site-packages (from html5lib>=1.1->yfinance) (1.17.0)\n",
      "Requirement already satisfied: webencodings in ./venv/lib/python3.12/site-packages (from html5lib>=1.1->yfinance) (0.5.1)\n",
      "Requirement already satisfied: python-dateutil>=2.8.2 in ./venv/lib/python3.12/site-packages (from pandas>=1.3.0->yfinance) (2.9.0.post0)\n",
      "Requirement already satisfied: tzdata>=2022.7 in ./venv/lib/python3.12/site-packages (from pandas>=1.3.0->yfinance) (2025.1)\n",
      "Requirement already satisfied: charset-normalizer<4,>=2 in ./venv/lib/python3.12/site-packages (from requests>=2.31->yfinance) (3.4.1)\n",
      "Requirement already satisfied: idna<4,>=2.5 in ./venv/lib/python3.12/site-packages (from requests>=2.31->yfinance) (3.10)\n",
      "Requirement already satisfied: urllib3<3,>=1.21.1 in ./venv/lib/python3.12/site-packages (from requests>=2.31->yfinance) (2.3.0)\n",
      "Requirement already satisfied: certifi>=2017.4.17 in ./venv/lib/python3.12/site-packages (from requests>=2.31->yfinance) (2025.1.31)\n",
      "Downloading yfinance-0.2.52-py2.py3-none-any.whl (108 kB)\n",
      "\u001b[2K   \u001b[38;2;114;156;31m━━━━━━━━━━━━━━━━━━━━━━━━━━━━━━━━━━━━━━━━\u001b[0m \u001b[32m108.5/108.5 kB\u001b[0m \u001b[31m13.2 MB/s\u001b[0m eta \u001b[36m0:00:00\u001b[0m\n",
      "\u001b[?25hDownloading frozendict-2.4.6-py312-none-any.whl (16 kB)\n",
      "Using cached html5lib-1.1-py2.py3-none-any.whl (112 kB)\n",
      "Downloading lxml-5.3.0-cp312-cp312-macosx_10_9_universal2.whl (8.2 MB)\n",
      "\u001b[2K   \u001b[38;2;114;156;31m━━━━━━━━━━━━━━━━━━━━━━━━━━━━━━━━━━━━━━━━\u001b[0m \u001b[32m8.2/8.2 MB\u001b[0m \u001b[31m36.3 MB/s\u001b[0m eta \u001b[36m0:00:00\u001b[0m MB/s\u001b[0m eta \u001b[36m0:00:01\u001b[0m:01\u001b[0m\n",
      "\u001b[?25hUsing cached multitasking-0.0.11-py3-none-any.whl (8.5 kB)\n",
      "Building wheels for collected packages: peewee\n",
      "  Building wheel for peewee (pyproject.toml) ... \u001b[?25ldone\n",
      "\u001b[?25h  Created wheel for peewee: filename=peewee-3.17.8-cp312-cp312-macosx_14_0_arm64.whl size=274502 sha256=28b0307c9a31bd0988ff4972344505f860e52856fda7945c747f95cdd8b267f1\n",
      "  Stored in directory: /Users/apurvasingh/Library/Caches/pip/wheels/8f/65/34/456800445efeafb05164fe95285c70e81ba1d96bae30f43917\n",
      "Successfully built peewee\n",
      "Installing collected packages: peewee, multitasking, lxml, html5lib, frozendict, yfinance\n",
      "Successfully installed frozendict-2.4.6 html5lib-1.1 lxml-5.3.0 multitasking-0.0.11 peewee-3.17.8 yfinance-0.2.52\n",
      "\n",
      "\u001b[1m[\u001b[0m\u001b[34;49mnotice\u001b[0m\u001b[1;39;49m]\u001b[0m\u001b[39;49m A new release of pip is available: \u001b[0m\u001b[31;49m24.0\u001b[0m\u001b[39;49m -> \u001b[0m\u001b[32;49m25.0\u001b[0m\n",
      "\u001b[1m[\u001b[0m\u001b[34;49mnotice\u001b[0m\u001b[1;39;49m]\u001b[0m\u001b[39;49m To update, run: \u001b[0m\u001b[32;49mpip install --upgrade pip\u001b[0m\n"
     ]
    },
    {
     "name": "stderr",
     "output_type": "stream",
     "text": [
      "3468.28s - pydevd: Sending message related to process being replaced timed-out after 5 seconds\n"
     ]
    },
    {
     "name": "stdout",
     "output_type": "stream",
     "text": [
      "Requirement already satisfied: numpy in ./venv/lib/python3.12/site-packages (2.2.2)\n",
      "\n",
      "\u001b[1m[\u001b[0m\u001b[34;49mnotice\u001b[0m\u001b[1;39;49m]\u001b[0m\u001b[39;49m A new release of pip is available: \u001b[0m\u001b[31;49m24.0\u001b[0m\u001b[39;49m -> \u001b[0m\u001b[32;49m25.0\u001b[0m\n",
      "\u001b[1m[\u001b[0m\u001b[34;49mnotice\u001b[0m\u001b[1;39;49m]\u001b[0m\u001b[39;49m To update, run: \u001b[0m\u001b[32;49mpip install --upgrade pip\u001b[0m\n"
     ]
    },
    {
     "name": "stderr",
     "output_type": "stream",
     "text": [
      "3476.74s - pydevd: Sending message related to process being replaced timed-out after 5 seconds\n"
     ]
    },
    {
     "name": "stdout",
     "output_type": "stream",
     "text": [
      "Requirement already satisfied: matplotlib in ./venv/lib/python3.12/site-packages (3.10.0)\n",
      "Requirement already satisfied: contourpy>=1.0.1 in ./venv/lib/python3.12/site-packages (from matplotlib) (1.3.1)\n",
      "Requirement already satisfied: cycler>=0.10 in ./venv/lib/python3.12/site-packages (from matplotlib) (0.12.1)\n",
      "Requirement already satisfied: fonttools>=4.22.0 in ./venv/lib/python3.12/site-packages (from matplotlib) (4.55.8)\n",
      "Requirement already satisfied: kiwisolver>=1.3.1 in ./venv/lib/python3.12/site-packages (from matplotlib) (1.4.8)\n",
      "Requirement already satisfied: numpy>=1.23 in ./venv/lib/python3.12/site-packages (from matplotlib) (2.2.2)\n",
      "Requirement already satisfied: packaging>=20.0 in ./venv/lib/python3.12/site-packages (from matplotlib) (24.2)\n",
      "Requirement already satisfied: pillow>=8 in ./venv/lib/python3.12/site-packages (from matplotlib) (11.1.0)\n",
      "Requirement already satisfied: pyparsing>=2.3.1 in ./venv/lib/python3.12/site-packages (from matplotlib) (3.2.1)\n",
      "Requirement already satisfied: python-dateutil>=2.7 in ./venv/lib/python3.12/site-packages (from matplotlib) (2.9.0.post0)\n",
      "Requirement already satisfied: six>=1.5 in ./venv/lib/python3.12/site-packages (from python-dateutil>=2.7->matplotlib) (1.17.0)\n",
      "\n",
      "\u001b[1m[\u001b[0m\u001b[34;49mnotice\u001b[0m\u001b[1;39;49m]\u001b[0m\u001b[39;49m A new release of pip is available: \u001b[0m\u001b[31;49m24.0\u001b[0m\u001b[39;49m -> \u001b[0m\u001b[32;49m25.0\u001b[0m\n",
      "\u001b[1m[\u001b[0m\u001b[34;49mnotice\u001b[0m\u001b[1;39;49m]\u001b[0m\u001b[39;49m To update, run: \u001b[0m\u001b[32;49mpip install --upgrade pip\u001b[0m\n"
     ]
    }
   ],
   "source": [
    "!pip3 install Quandl\n",
    "!pip3 install yfinance\n",
    "!pip3 install yahooquery\n",
    "!pip3 install numpy\n",
    "!pip3 install matplotlib"
   ]
  },
  {
   "cell_type": "code",
   "execution_count": 63,
   "id": "213270cf-ad64-4bca-92d2-965b3f63f809",
   "metadata": {},
   "outputs": [],
   "source": [
    "import quandl\n",
    "import yfinance as yf\n",
    "import numpy as np\n",
    "import matplotlib.pyplot as plt"
   ]
  },
  {
   "cell_type": "code",
   "execution_count": 48,
   "id": "dce7e5d0-8f45-4b05-9cb4-c30c55571a40",
   "metadata": {},
   "outputs": [],
   "source": [
    "api_key=\"ULGMuPX9rRY2vxXsboEG\"\n",
    "quandl.ApiConfig.api_key = api_key"
   ]
  },
  {
   "cell_type": "code",
   "execution_count": 56,
   "id": "adc46828",
   "metadata": {},
   "outputs": [
    {
     "data": {
      "text/html": [
       "<div>\n",
       "<style scoped>\n",
       "    .dataframe tbody tr th:only-of-type {\n",
       "        vertical-align: middle;\n",
       "    }\n",
       "\n",
       "    .dataframe tbody tr th {\n",
       "        vertical-align: top;\n",
       "    }\n",
       "\n",
       "    .dataframe thead th {\n",
       "        text-align: right;\n",
       "    }\n",
       "</style>\n",
       "<table border=\"1\" class=\"dataframe\">\n",
       "  <thead>\n",
       "    <tr style=\"text-align: right;\">\n",
       "      <th></th>\n",
       "      <th>ticker</th>\n",
       "      <th>dimension</th>\n",
       "      <th>calendardate</th>\n",
       "      <th>datekey</th>\n",
       "      <th>reportperiod</th>\n",
       "      <th>fiscalperiod</th>\n",
       "      <th>lastupdated</th>\n",
       "      <th>accoci</th>\n",
       "      <th>assets</th>\n",
       "      <th>assetsavg</th>\n",
       "      <th>...</th>\n",
       "      <th>sharesbas</th>\n",
       "      <th>shareswa</th>\n",
       "      <th>shareswadil</th>\n",
       "      <th>sps</th>\n",
       "      <th>tangibles</th>\n",
       "      <th>taxassets</th>\n",
       "      <th>taxexp</th>\n",
       "      <th>taxliabilities</th>\n",
       "      <th>tbvps</th>\n",
       "      <th>workingcapital</th>\n",
       "    </tr>\n",
       "    <tr>\n",
       "      <th>None</th>\n",
       "      <th></th>\n",
       "      <th></th>\n",
       "      <th></th>\n",
       "      <th></th>\n",
       "      <th></th>\n",
       "      <th></th>\n",
       "      <th></th>\n",
       "      <th></th>\n",
       "      <th></th>\n",
       "      <th></th>\n",
       "      <th></th>\n",
       "      <th></th>\n",
       "      <th></th>\n",
       "      <th></th>\n",
       "      <th></th>\n",
       "      <th></th>\n",
       "      <th></th>\n",
       "      <th></th>\n",
       "      <th></th>\n",
       "      <th></th>\n",
       "      <th></th>\n",
       "    </tr>\n",
       "  </thead>\n",
       "  <tbody>\n",
       "    <tr>\n",
       "      <th>0</th>\n",
       "      <td>MSFT</td>\n",
       "      <td>MRY</td>\n",
       "      <td>2023-12-31</td>\n",
       "      <td>2023-06-30</td>\n",
       "      <td>2023-06-30</td>\n",
       "      <td>2023-FY</td>\n",
       "      <td>2025-01-29</td>\n",
       "      <td>-6343000000</td>\n",
       "      <td>411976000000</td>\n",
       "      <td>379100000000</td>\n",
       "      <td>...</td>\n",
       "      <td>7435487575</td>\n",
       "      <td>7446000000</td>\n",
       "      <td>7472000000</td>\n",
       "      <td>28.46</td>\n",
       "      <td>334724000000</td>\n",
       "      <td>0</td>\n",
       "      <td>16950000000</td>\n",
       "      <td>30145000000</td>\n",
       "      <td>44.954</td>\n",
       "      <td>80108000000</td>\n",
       "    </tr>\n",
       "  </tbody>\n",
       "</table>\n",
       "<p>1 rows × 112 columns</p>\n",
       "</div>"
      ],
      "text/plain": [
       "     ticker dimension calendardate    datekey reportperiod fiscalperiod  \\\n",
       "None                                                                      \n",
       "0      MSFT       MRY   2023-12-31 2023-06-30   2023-06-30      2023-FY   \n",
       "\n",
       "     lastupdated      accoci        assets     assetsavg  ...   sharesbas  \\\n",
       "None                                                      ...               \n",
       "0     2025-01-29 -6343000000  411976000000  379100000000  ...  7435487575   \n",
       "\n",
       "        shareswa  shareswadil    sps     tangibles  taxassets       taxexp  \\\n",
       "None                                                                         \n",
       "0     7446000000   7472000000  28.46  334724000000          0  16950000000   \n",
       "\n",
       "      taxliabilities   tbvps  workingcapital  \n",
       "None                                          \n",
       "0        30145000000  44.954     80108000000  \n",
       "\n",
       "[1 rows x 112 columns]"
      ]
     },
     "execution_count": 56,
     "metadata": {},
     "output_type": "execute_result"
    }
   ],
   "source": [
    "quandl.ApiConfig.api_key = 'ULGMuPX9rRY2vxXsboEG'\n",
    "data = quandl.get_table('SHARADAR/SF1',calendardate='2023-12-31', ticker='MSFT')\n",
    "data.head()"
   ]
  },
  {
   "cell_type": "code",
   "execution_count": 64,
   "id": "dea07bc5",
   "metadata": {},
   "outputs": [
    {
     "data": {
      "text/plain": [
       "Date\n",
       "1980-12-12 00:00:00-05:00      0.098834\n",
       "1980-12-15 00:00:00-05:00      0.093678\n",
       "1980-12-16 00:00:00-05:00      0.086802\n",
       "1980-12-17 00:00:00-05:00      0.088951\n",
       "1980-12-18 00:00:00-05:00      0.091530\n",
       "                                ...    \n",
       "2025-01-27 00:00:00-05:00    229.860001\n",
       "2025-01-28 00:00:00-05:00    238.259995\n",
       "2025-01-29 00:00:00-05:00    239.360001\n",
       "2025-01-30 00:00:00-05:00    237.589996\n",
       "2025-01-31 00:00:00-05:00    236.000000\n",
       "Name: Close, Length: 11125, dtype: float64"
      ]
     },
     "execution_count": 64,
     "metadata": {},
     "output_type": "execute_result"
    }
   ],
   "source": [
    "apple = yf.Ticker(\"AAPL\")\n",
    "apple = apple.history(period=\"max\")\n",
    "apple[\"Close\"]"
   ]
  },
  {
   "cell_type": "code",
   "execution_count": 66,
   "id": "80ae0271",
   "metadata": {},
   "outputs": [
    {
     "name": "stderr",
     "output_type": "stream",
     "text": [
      "5761.92s - pydevd: Sending message related to process being replaced timed-out after 5 seconds\n"
     ]
    },
    {
     "name": "stdout",
     "output_type": "stream",
     "text": [
      "Collecting yahooquery\n",
      "  Downloading yahooquery-2.3.7-py3-none-any.whl.metadata (5.0 kB)\n",
      "Requirement already satisfied: beautifulsoup4<5.0.0,>=4.12.2 in ./venv/lib/python3.12/site-packages (from yahooquery) (4.12.3)\n",
      "Collecting lxml<5.0.0,>=4.9.3 (from yahooquery)\n",
      "  Downloading lxml-4.9.4-cp312-cp312-macosx_11_0_universal2.whl.metadata (3.7 kB)\n",
      "Requirement already satisfied: pandas<3.0.0,>=2.0.3 in ./venv/lib/python3.12/site-packages (from yahooquery) (2.2.3)\n",
      "Requirement already satisfied: requests<3.0.0,>=2.31.0 in ./venv/lib/python3.12/site-packages (from yahooquery) (2.32.3)\n",
      "Collecting requests-futures<2.0.0,>=1.0.1 (from yahooquery)\n",
      "  Downloading requests_futures-1.0.2-py2.py3-none-any.whl.metadata (12 kB)\n",
      "Collecting tqdm<5.0.0,>=4.65.0 (from yahooquery)\n",
      "  Downloading tqdm-4.67.1-py3-none-any.whl.metadata (57 kB)\n",
      "\u001b[2K     \u001b[38;2;114;156;31m━━━━━━━━━━━━━━━━━━━━━━━━━━━━━━━━━━━━━━━━\u001b[0m \u001b[32m57.7/57.7 kB\u001b[0m \u001b[31m2.3 MB/s\u001b[0m eta \u001b[36m0:00:00\u001b[0m\n",
      "\u001b[?25hRequirement already satisfied: soupsieve>1.2 in ./venv/lib/python3.12/site-packages (from beautifulsoup4<5.0.0,>=4.12.2->yahooquery) (2.6)\n",
      "Requirement already satisfied: numpy>=1.26.0 in ./venv/lib/python3.12/site-packages (from pandas<3.0.0,>=2.0.3->yahooquery) (2.2.2)\n",
      "Requirement already satisfied: python-dateutil>=2.8.2 in ./venv/lib/python3.12/site-packages (from pandas<3.0.0,>=2.0.3->yahooquery) (2.9.0.post0)\n",
      "Requirement already satisfied: pytz>=2020.1 in ./venv/lib/python3.12/site-packages (from pandas<3.0.0,>=2.0.3->yahooquery) (2025.1)\n",
      "Requirement already satisfied: tzdata>=2022.7 in ./venv/lib/python3.12/site-packages (from pandas<3.0.0,>=2.0.3->yahooquery) (2025.1)\n",
      "Requirement already satisfied: charset-normalizer<4,>=2 in ./venv/lib/python3.12/site-packages (from requests<3.0.0,>=2.31.0->yahooquery) (3.4.1)\n",
      "Requirement already satisfied: idna<4,>=2.5 in ./venv/lib/python3.12/site-packages (from requests<3.0.0,>=2.31.0->yahooquery) (3.10)\n",
      "Requirement already satisfied: urllib3<3,>=1.21.1 in ./venv/lib/python3.12/site-packages (from requests<3.0.0,>=2.31.0->yahooquery) (2.3.0)\n",
      "Requirement already satisfied: certifi>=2017.4.17 in ./venv/lib/python3.12/site-packages (from requests<3.0.0,>=2.31.0->yahooquery) (2025.1.31)\n",
      "Requirement already satisfied: six>=1.5 in ./venv/lib/python3.12/site-packages (from python-dateutil>=2.8.2->pandas<3.0.0,>=2.0.3->yahooquery) (1.17.0)\n",
      "Downloading yahooquery-2.3.7-py3-none-any.whl (52 kB)\n",
      "\u001b[2K   \u001b[38;2;114;156;31m━━━━━━━━━━━━━━━━━━━━━━━━━━━━━━━━━━━━━━━━\u001b[0m \u001b[32m52.7/52.7 kB\u001b[0m \u001b[31m3.5 MB/s\u001b[0m eta \u001b[36m0:00:00\u001b[0m\n",
      "\u001b[?25hDownloading lxml-4.9.4-cp312-cp312-macosx_11_0_universal2.whl (8.6 MB)\n",
      "\u001b[2K   \u001b[38;2;114;156;31m━━━━━━━━━━━━━━━━━━━━━━━━━━━━━━━━━━━━━━━━\u001b[0m \u001b[32m8.6/8.6 MB\u001b[0m \u001b[31m32.2 MB/s\u001b[0m eta \u001b[36m0:00:00\u001b[0mm eta \u001b[36m0:00:01\u001b[0m[36m0:00:01\u001b[0m\n",
      "\u001b[?25hDownloading requests_futures-1.0.2-py2.py3-none-any.whl (7.7 kB)\n",
      "Downloading tqdm-4.67.1-py3-none-any.whl (78 kB)\n",
      "\u001b[2K   \u001b[38;2;114;156;31m━━━━━━━━━━━━━━━━━━━━━━━━━━━━━━━━━━━━━━━━\u001b[0m \u001b[32m78.5/78.5 kB\u001b[0m \u001b[31m10.0 MB/s\u001b[0m eta \u001b[36m0:00:00\u001b[0m\n",
      "\u001b[?25hInstalling collected packages: tqdm, lxml, requests-futures, yahooquery\n",
      "  Attempting uninstall: lxml\n",
      "    Found existing installation: lxml 5.3.0\n",
      "    Uninstalling lxml-5.3.0:\n",
      "      Successfully uninstalled lxml-5.3.0\n",
      "Successfully installed lxml-4.9.4 requests-futures-1.0.2 tqdm-4.67.1 yahooquery-2.3.7\n",
      "\n",
      "\u001b[1m[\u001b[0m\u001b[34;49mnotice\u001b[0m\u001b[1;39;49m]\u001b[0m\u001b[39;49m A new release of pip is available: \u001b[0m\u001b[31;49m24.0\u001b[0m\u001b[39;49m -> \u001b[0m\u001b[32;49m25.0\u001b[0m\n",
      "\u001b[1m[\u001b[0m\u001b[34;49mnotice\u001b[0m\u001b[1;39;49m]\u001b[0m\u001b[39;49m To update, run: \u001b[0m\u001b[32;49mpip install --upgrade pip\u001b[0m\n"
     ]
    }
   ],
   "source": [
    "!pip3 install yahooquery"
   ]
  },
  {
   "cell_type": "code",
   "execution_count": 77,
   "id": "c249361d-be51-4c51-aa8c-aeeca580355a",
   "metadata": {},
   "outputs": [
    {
     "name": "stdout",
     "output_type": "stream",
     "text": [
      "Available screeners: ['advertising_agencies', 'aerospace_defense', 'aggressive_small_caps', 'agricultural_inputs', 'airlines', 'airports_air_services', 'all_cryptocurrencies_au', 'all_cryptocurrencies_ca', 'all_cryptocurrencies_eu', 'all_cryptocurrencies_gb', 'all_cryptocurrencies_in', 'all_cryptocurrencies_us', 'aluminum', 'analyst_strong_buy_stocks', 'apparel_manufacturing', 'apparel_retail', 'asset_management', 'auto_manufacturers', 'auto_parts', 'auto_truck_dealerships', 'banks_diversified', 'banks_regional', 'bearish_stocks_right_now', 'best_hist_performance_etfs', 'best_hist_performance_etfs_asia', 'best_hist_performance_etfs_europe', 'best_hist_performance_mutual_funds', 'best_hist_performance_mutual_funds_asia', 'best_hist_performance_mutual_funds_europe', 'beverages_brewers', 'beverages_non_alcoholic', 'beverages_wineries_distilleries', 'biotechnology', 'bond_etfs', 'bond_mutual_funds', 'bond_mutual_funds_asia', 'bond_mutual_funds_europe', 'broadcasting', 'building_materials', 'building_products_equipment', 'bullish_stocks_right_now', 'business_equipment_supplies', 'capital_markets', 'cheapest_etfs', 'cheapest_etfs_asia', 'cheapest_etfs_europe', 'cheapest_mutual_funds', 'cheapest_mutual_funds_asia', 'cheapest_mutual_funds_europe', 'chemicals', 'coking_coal', 'commodity_etfs', 'commodity_etfs_asia', 'commodity_etfs_europe', 'commodity_mutual_funds', 'communication_equipment', 'community_sentiment_most_bearish', 'community_sentiment_most_bullish', 'computer_hardware', 'confectioners', 'conglomerates', 'conservative_foreign_funds', 'consulting_services', 'consumer_electronics', 'copper', 'credit_services', 'day_gainers', 'day_gainers_americas', 'day_gainers_asia', 'day_gainers_au', 'day_gainers_br', 'day_gainers_ca', 'day_gainers_cryptocurrencies', 'day_gainers_de', 'day_gainers_dji', 'day_gainers_es', 'day_gainers_etfs', 'day_gainers_etfs_asia', 'day_gainers_etfs_europe', 'day_gainers_europe', 'day_gainers_fr', 'day_gainers_gb', 'day_gainers_hk', 'day_gainers_in', 'day_gainers_it', 'day_gainers_mutual_funds', 'day_gainers_mutual_funds_asia', 'day_gainers_mutual_funds_europe', 'day_gainers_ndx', 'day_gainers_nz', 'day_gainers_options', 'day_gainers_sg', 'day_losers', 'day_losers_americas', 'day_losers_asia', 'day_losers_au', 'day_losers_br', 'day_losers_ca', 'day_losers_cryptocurrencies', 'day_losers_de', 'day_losers_dji', 'day_losers_es', 'day_losers_etfs', 'day_losers_etfs_asia', 'day_losers_etfs_europe', 'day_losers_europe', 'day_losers_fr', 'day_losers_gb', 'day_losers_hk', 'day_losers_in', 'day_losers_it', 'day_losers_mutual_funds', 'day_losers_mutual_funds_asia', 'day_losers_mutual_funds_europe', 'day_losers_ndx', 'day_losers_nz', 'day_losers_options', 'day_losers_sg', 'department_stores', 'diagnostics_research', 'discount_stores', 'drug_manufacturers_general', 'drug_manufacturers_specialty_generic', 'education_training_services', 'electrical_equipment_parts', 'electronic_components', 'electronic_gaming_multimedia', 'electronics_computer_distribution', 'engineering_construction', 'entertainment', 'equity_mutual_funds', 'farm_heavy_construction_machinery', 'farm_products', 'fifty_two_wk_gainers', 'fifty_two_wk_gainers_asia', 'fifty_two_wk_gainers_cryptocurrencies', 'fifty_two_wk_gainers_etfs', 'fifty_two_wk_gainers_etfs_asia', 'fifty_two_wk_gainers_etfs_europe', 'fifty_two_wk_gainers_europe', 'fifty_two_wk_gainers_mutual_funds', 'fifty_two_wk_gainers_mutual_funds_asia', 'fifty_two_wk_gainers_mutual_funds_europe', 'fifty_two_wk_losers', 'fifty_two_wk_losers_asia', 'fifty_two_wk_losers_cryptocurrencies', 'fifty_two_wk_losers_etfs', 'fifty_two_wk_losers_etfs_asia', 'fifty_two_wk_losers_etfs_europe', 'fifty_two_wk_losers_europe', 'fifty_two_wk_losers_mutual_funds', 'fifty_two_wk_losers_mutual_funds_asia', 'fifty_two_wk_losers_mutual_funds_europe', 'financial_conglomerates', 'financial_data_stock_exchanges', 'food_distribution', 'footwear_accessories', 'furnishings_fixtures_appliances', 'gambling', 'gold', 'grocery_stores', 'growth_technology_stocks', 'health_information_services', 'healthcare_plans', 'high_growth_large_etfs', 'high_growth_large_mutual_funds', 'high_yield_bond', 'high_yield_high_return', 'high_yield_high_return_asia', 'high_yield_high_return_europe', 'home_improvement_retail', 'household_personal_products', 'industrial_distribution', 'information_technology_services', 'infrastructure_operations', 'insurance_brokers', 'insurance_diversified', 'insurance_life', 'insurance_property_casualty', 'insurance_reinsurance', 'insurance_specialty', 'integrated_freight_logistics', 'internet_content_information', 'internet_retail', 'large_blend_etfs', 'large_blend_mutual_funds', 'largest_market_cap', 'largest_market_cap_asia', 'largest_market_cap_cryptocurrencies', 'largest_market_cap_europe', 'latest_analyst_upgraded_stocks', 'leisure', 'lodging', 'low_risk_mutual_funds', 'low_risk_mutual_funds_asia', 'low_risk_mutual_funds_europe', 'lumber_wood_production', 'luxury_goods', 'marine_shipping', 'medical_care_facilities', 'medical_devices', 'medical_distribution', 'medical_instruments_supplies', 'mega_cap_hc', 'metal_fabrication', 'morningstar_five_star_stocks', 'mortgage_finance', 'most_actives', 'most_actives_americas', 'most_actives_asia', 'most_actives_au', 'most_actives_br', 'most_actives_ca', 'most_actives_cn', 'most_actives_cryptocurrencies', 'most_actives_de', 'most_actives_dji', 'most_actives_es', 'most_actives_etfs', 'most_actives_etfs_asia', 'most_actives_etfs_europe', 'most_actives_europe', 'most_actives_fr', 'most_actives_gb', 'most_actives_hk', 'most_actives_in', 'most_actives_it', 'most_actives_ndx', 'most_actives_nz', 'most_actives_options', 'most_actives_sg', 'most_institutionally_bought_large_cap_stocks', 'most_institutionally_held_large_cap_stocks', 'most_institutionally_sold_large_cap_stocks', 'most_shorted_stocks', 'most_visited', 'most_visited_basic_materials', 'most_visited_communication_services', 'most_visited_consumer_cyclical', 'most_visited_consumer_defensive', 'most_visited_energy', 'most_visited_financial_services', 'most_visited_healthcare', 'most_visited_industrials', 'most_visited_real_estate', 'most_visited_technology', 'most_visited_utilities', 'most_watched_tickers', 'ms_basic_materials', 'ms_communication_services', 'ms_consumer_cyclical', 'ms_consumer_defensive', 'ms_energy', 'ms_financial_services', 'ms_healthcare', 'ms_industrials', 'ms_real_estate', 'ms_technology', 'ms_utilities', 'net_net_strategy', 'net_net_strategy_asia', 'net_net_strategy_europe', 'oil_gas_drilling', 'oil_gas_e_p', 'oil_gas_equipment_services', 'oil_gas_integrated', 'oil_gas_midstream', 'oil_gas_refining_marketing', 'other_industrial_metals_mining', 'other_precious_metals_mining', 'packaged_foods', 'packaging_containers', 'paper_paper_products', 'personal_services', 'pharmaceutical_retailers', 'pollution_treatment_controls', 'portfolio_actions_most_added', 'portfolio_actions_most_deleted', 'portfolio_anchors', 'precious_metal_etfs', 'precious_metal_mutual_funds', 'publishing', 'railroads', 'real_estate_development', 'real_estate_diversified', 'real_estate_services', 'recreational_vehicles', 'reit_diversified', 'reit_healthcare_facilities', 'reit_hotel_motel', 'reit_industrial', 'reit_mortgage', 'reit_office', 'reit_residential', 'reit_retail', 'reit_specialty', 'rental_leasing_services', 'residential_construction', 'resorts_casinos', 'restaurants', 'scientific_technical_instruments', 'security_protection_services', 'semiconductor_equipment_materials', 'semiconductors', 'shell_companies', 'silver', 'small_cap_gainers', 'software_application', 'software_infrastructure', 'solar', 'solid_large_growth_funds', 'solid_midcap_growth_funds', 'sp_500_etfs', 'sp_500_etfs_asia', 'sp_500_etfs_europe', 'specialty_business_services', 'specialty_chemicals', 'specialty_industrial_machinery', 'specialty_retail', 'staffing_employment_services', 'steel', 'stocks_most_bought_by_hedge_funds', 'stocks_most_bought_by_pension_fund', 'stocks_most_bought_by_private_equity', 'stocks_most_bought_by_sovereign_wealth_fund', 'stocks_with_most_institutional_buyers', 'stocks_with_most_institutional_sellers', 'strong_undervalued_stocks', 'technology_etfs', 'technology_mutual_funds', 'telecom_services', 'textile_manufacturing', 'the_acquirers_multiple', 'the_acquirers_multiple_asia', 'the_acquirers_multiple_europe', 'thermal_coal', 'tobacco', 'tools_accessories', 'top_energy_us', 'top_etfs', 'top_etfs_hk', 'top_etfs_in', 'top_etfs_us', 'top_mutual_funds', 'top_mutual_funds_au', 'top_mutual_funds_br', 'top_mutual_funds_ca', 'top_mutual_funds_de', 'top_mutual_funds_es', 'top_mutual_funds_fr', 'top_mutual_funds_gb', 'top_mutual_funds_hk', 'top_mutual_funds_in', 'top_mutual_funds_it', 'top_mutual_funds_nz', 'top_mutual_funds_sg', 'top_mutual_funds_us', 'top_options_implied_volatality', 'top_options_open_interest', 'top_performing_etfs', 'top_performing_etfs_asia', 'top_performing_etfs_europe', 'top_performing_mutual_funds', 'top_performing_mutual_funds_asia', 'top_performing_mutual_funds_europe', 'top_stocks_owned_by_cathie_wood', 'top_stocks_owned_by_goldman_sachs', 'top_stocks_owned_by_ray_dalio', 'top_stocks_owned_by_warren_buffet', 'travel_services', 'trucking', 'undervalued_growth_stocks', 'undervalued_large_caps', 'undervalued_wide_moat_stocks', 'upside_breakout_stocks_daily', 'uranium', 'utilities_diversified', 'utilities_independent_power_producers', 'utilities_regulated_electric', 'utilities_regulated_gas', 'utilities_regulated_water', 'utilities_renewable', 'waste_management']\n"
     ]
    },
    {
     "data": {
      "text/plain": [
       "dict"
      ]
     },
     "execution_count": 77,
     "metadata": {},
     "output_type": "execute_result"
    }
   ],
   "source": [
    "from yahooquery import Screener\n",
    "\n",
    "# Get available screeners\n",
    "s = Screener()\n",
    "available_screeners = s.available_screeners\n",
    "print(\"Available screeners:\", available_screeners)\n",
    "\n",
    "# Use a valid screener name\n",
    "data = s.get_screeners('most_actives')\n",
    "d = data['most_actives']['quotes']\n",
    "type(data)\n",
    "#[0]['shortName']\n",
    "# nyse_tickers = [stock['symbol'] for stock in data['finance']['result'][0]['quotes']]\n",
    "\n",
    "# print(nyse_tickers[:10])  # First 10 NYSE stocks\n"
   ]
  }
 ],
 "metadata": {
  "kernelspec": {
   "display_name": "venv",
   "language": "python",
   "name": "python3"
  },
  "language_info": {
   "codemirror_mode": {
    "name": "ipython",
    "version": 3
   },
   "file_extension": ".py",
   "mimetype": "text/x-python",
   "name": "python",
   "nbconvert_exporter": "python",
   "pygments_lexer": "ipython3",
   "version": "3.12.2"
  }
 },
 "nbformat": 4,
 "nbformat_minor": 5
}
